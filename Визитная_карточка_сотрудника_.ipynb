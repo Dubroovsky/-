{
  "nbformat": 4,
  "nbformat_minor": 0,
  "metadata": {
    "colab": {
      "provenance": []
    },
    "kernelspec": {
      "name": "python3",
      "display_name": "Python 3"
    },
    "language_info": {
      "name": "python"
    }
  },
  "cells": [
    {
      "cell_type": "markdown",
      "source": [
        "<h1><h1>Визитная карточка сотрудника</h1>"
      ],
      "metadata": {
        "id": "nThM1Y-s4Dmk"
      }
    },
    {
      "cell_type": "markdown",
      "source": [
        "***Семенов Семен Семенович***"
      ],
      "metadata": {
        "id": "HlvwRw3P5mwS"
      }
    },
    {
      "cell_type": "markdown",
      "source": [
        "<i> ***Информация о человека:***</i>\n",
        "<ul>\n",
        "<li>Пол - Мужской </li>\n",
        "<li>Возраст - 45 </li>\n",
        "<li>Семейное положение - холост </li>\n",
        "<li>Место жительства - Россия, Москва </li>\n",
        "</ul>"
      ],
      "metadata": {
        "id": "_TNt6OQl4ryw"
      }
    },
    {
      "cell_type": "markdown",
      "source": [
        "![image](https://www.vokrug.tv/pic/person/e/2/1/3/e2130d7f512af9f6bbf544b64e7939a5.jpg)"
      ],
      "metadata": {
        "id": "qlQXuMLS50NL"
      }
    },
    {
      "cell_type": "markdown",
      "source": [
        "(https://ru.wikipedia.org/wiki/%D0%93%D0%BE%D1%81%D0%BB%D0%B8%D0%BD%D0%B3,_%D0%A0%D0%B0%D0%B9%D0%B0%D0%BD)"
      ],
      "metadata": {
        "id": "MnXAK-T86SXQ"
      }
    },
    {
      "cell_type": "markdown",
      "source": [
        "$$y(x) = \\frac{\\sum_{i=1}^{n} \\sum_{j=2}^{m} 9^2_i x_j}{\\sqrt{\\frac{9}{W^2}}} $$"
      ],
      "metadata": {
        "id": "B6AqDpI26a2F"
      }
    }
  ]
}